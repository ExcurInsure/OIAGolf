{
 "cells": [
  {
   "cell_type": "code",
   "execution_count": 1,
   "metadata": {},
   "outputs": [],
   "source": [
    "from selenium import webdriver\n",
    "from selenium.webdriver.common.by import By\n",
    "from selenium.webdriver.chrome.service import Service\n",
    "from selenium.webdriver.support.ui import WebDriverWait\n",
    "from selenium.webdriver.support import expected_conditions as EC\n",
    "from webdriver_manager.chrome import ChromeDriverManager"
   ]
  },
  {
   "cell_type": "code",
   "execution_count": 2,
   "metadata": {},
   "outputs": [],
   "source": [
    "# Initialize the WebDriver\n",
    "driver = webdriver.Chrome(service=Service(ChromeDriverManager().install()))\n",
    "url = 'https://www.golfgenius.com/pages/4655560'  # Adjust if there's a specific URL for the tournament\n",
    "driver.get(url)"
   ]
  },
  {
   "cell_type": "code",
   "execution_count": 4,
   "metadata": {},
   "outputs": [],
   "source": [
    "driver.quit()"
   ]
  },
  {
   "cell_type": "code",
   "execution_count": 3,
   "metadata": {},
   "outputs": [
    {
     "ename": "TimeoutException",
     "evalue": "Message: \nStacktrace:\n\tGetHandleVerifier [0x007F8C93+51395]\n\t(No symbol) [0x00765EF1]\n\t(No symbol) [0x0061E13A]\n\t(No symbol) [0x006562BB]\n\t(No symbol) [0x006563EB]\n\t(No symbol) [0x0068C162]\n\t(No symbol) [0x00673ED4]\n\t(No symbol) [0x0068A570]\n\t(No symbol) [0x00673C26]\n\t(No symbol) [0x0064C629]\n\t(No symbol) [0x0064D40D]\n\tGetHandleVerifier [0x00B76453+3711107]\n\tGetHandleVerifier [0x00BB583A+3970154]\n\tGetHandleVerifier [0x00BB0B28+3950424]\n\tGetHandleVerifier [0x008A9C99+776393]\n\t(No symbol) [0x007716C4]\n\t(No symbol) [0x0076C5A8]\n\t(No symbol) [0x0076C759]\n\t(No symbol) [0x0075DD80]\n\tBaseThreadInitThunk [0x76367BA9+25]\n\tRtlInitializeExceptionChain [0x7766BDAB+107]\n\tRtlClearBits [0x7766BD2F+191]\n",
     "output_type": "error",
     "traceback": [
      "\u001b[1;31m---------------------------------------------------------------------------\u001b[0m",
      "\u001b[1;31mTimeoutException\u001b[0m                          Traceback (most recent call last)",
      "Cell \u001b[1;32mIn[3], line 2\u001b[0m\n\u001b[0;32m      1\u001b[0m \u001b[38;5;66;03m# Wait for the table to load\u001b[39;00m\n\u001b[1;32m----> 2\u001b[0m \u001b[43mWebDriverWait\u001b[49m\u001b[43m(\u001b[49m\u001b[43mdriver\u001b[49m\u001b[43m,\u001b[49m\u001b[43m \u001b[49m\u001b[38;5;241;43m10\u001b[39;49m\u001b[43m)\u001b[49m\u001b[38;5;241;43m.\u001b[39;49m\u001b[43muntil\u001b[49m\u001b[43m(\u001b[49m\n\u001b[0;32m      3\u001b[0m \u001b[43m    \u001b[49m\u001b[43mEC\u001b[49m\u001b[38;5;241;43m.\u001b[39;49m\u001b[43mpresence_of_element_located\u001b[49m\u001b[43m(\u001b[49m\u001b[43m(\u001b[49m\u001b[43mBy\u001b[49m\u001b[38;5;241;43m.\u001b[39;49m\u001b[43mCSS_SELECTOR\u001b[49m\u001b[43m,\u001b[49m\u001b[43m \u001b[49m\u001b[38;5;124;43m'\u001b[39;49m\u001b[38;5;124;43mtable.result_scope\u001b[39;49m\u001b[38;5;124;43m'\u001b[39;49m\u001b[43m)\u001b[49m\u001b[43m)\u001b[49m\n\u001b[0;32m      4\u001b[0m \u001b[43m)\u001b[49m\n",
      "File \u001b[1;32mc:\\Users\\jonm5\\anaconda3\\envs\\excurinsure\\Lib\\site-packages\\selenium\\webdriver\\support\\wait.py:105\u001b[0m, in \u001b[0;36mWebDriverWait.until\u001b[1;34m(self, method, message)\u001b[0m\n\u001b[0;32m    103\u001b[0m     \u001b[38;5;28;01mif\u001b[39;00m time\u001b[38;5;241m.\u001b[39mmonotonic() \u001b[38;5;241m>\u001b[39m end_time:\n\u001b[0;32m    104\u001b[0m         \u001b[38;5;28;01mbreak\u001b[39;00m\n\u001b[1;32m--> 105\u001b[0m \u001b[38;5;28;01mraise\u001b[39;00m TimeoutException(message, screen, stacktrace)\n",
      "\u001b[1;31mTimeoutException\u001b[0m: Message: \nStacktrace:\n\tGetHandleVerifier [0x007F8C93+51395]\n\t(No symbol) [0x00765EF1]\n\t(No symbol) [0x0061E13A]\n\t(No symbol) [0x006562BB]\n\t(No symbol) [0x006563EB]\n\t(No symbol) [0x0068C162]\n\t(No symbol) [0x00673ED4]\n\t(No symbol) [0x0068A570]\n\t(No symbol) [0x00673C26]\n\t(No symbol) [0x0064C629]\n\t(No symbol) [0x0064D40D]\n\tGetHandleVerifier [0x00B76453+3711107]\n\tGetHandleVerifier [0x00BB583A+3970154]\n\tGetHandleVerifier [0x00BB0B28+3950424]\n\tGetHandleVerifier [0x008A9C99+776393]\n\t(No symbol) [0x007716C4]\n\t(No symbol) [0x0076C5A8]\n\t(No symbol) [0x0076C759]\n\t(No symbol) [0x0075DD80]\n\tBaseThreadInitThunk [0x76367BA9+25]\n\tRtlInitializeExceptionChain [0x7766BDAB+107]\n\tRtlClearBits [0x7766BD2F+191]\n"
     ]
    }
   ],
   "source": [
    "# Wait for the table to load\n",
    "WebDriverWait(driver, 10).until(\n",
    "    EC.presence_of_element_located((By.CSS_SELECTOR, 'table.result_scope'))\n",
    ")"
   ]
  },
  {
   "cell_type": "code",
   "execution_count": null,
   "metadata": {},
   "outputs": [],
   "source": [
    "# Find the table by its class\n",
    "table = driver.find_element(By.CSS_SELECTOR, 'table.result_scope')"
   ]
  },
  {
   "cell_type": "code",
   "execution_count": null,
   "metadata": {},
   "outputs": [],
   "source": []
  }
 ],
 "metadata": {
  "kernelspec": {
   "display_name": "excurinsure",
   "language": "python",
   "name": "python3"
  },
  "language_info": {
   "codemirror_mode": {
    "name": "ipython",
    "version": 3
   },
   "file_extension": ".py",
   "mimetype": "text/x-python",
   "name": "python",
   "nbconvert_exporter": "python",
   "pygments_lexer": "ipython3",
   "version": "3.11.4"
  }
 },
 "nbformat": 4,
 "nbformat_minor": 2
}
