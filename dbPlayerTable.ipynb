{
 "cells": [
  {
   "cell_type": "code",
   "execution_count": 1,
   "metadata": {},
   "outputs": [],
   "source": [
    "import sqlite3"
   ]
  },
  {
   "cell_type": "code",
   "execution_count": 2,
   "metadata": {},
   "outputs": [],
   "source": [
    "# Connect to SQLite database \n",
    "conn = sqlite3.connect('oiaGolf.db')\n",
    "cursor = conn.cursor()"
   ]
  },
  {
   "cell_type": "code",
   "execution_count": null,
   "metadata": {},
   "outputs": [],
   "source": [
    "# Create Players table\n",
    "cursor.execute('''CREATE TABLE IF NOT EXISTS Players2 (\n",
    "                    playerID INTEGER PRIMARY KEY AUTOINCREMENT,\n",
    "                    firstName TEXT,\n",
    "                    lastName TEXT,\n",
    "                    suffix TEXT,\n",
    "                    school TEXT,\n",
    "                    gender TEXT)''')\n"
   ]
  }
 ],
 "metadata": {
  "kernelspec": {
   "display_name": "excurinsure",
   "language": "python",
   "name": "python3"
  },
  "language_info": {
   "codemirror_mode": {
    "name": "ipython",
    "version": 3
   },
   "file_extension": ".py",
   "mimetype": "text/x-python",
   "name": "python",
   "nbconvert_exporter": "python",
   "pygments_lexer": "ipython3",
   "version": "3.11.4"
  }
 },
 "nbformat": 4,
 "nbformat_minor": 2
}
